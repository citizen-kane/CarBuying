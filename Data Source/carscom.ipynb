{
 "cells": [
  {
   "cell_type": "code",
   "execution_count": 1,
   "metadata": {
    "collapsed": false
   },
   "outputs": [],
   "source": [
    "\"\"\"\n",
    "remove all whitespace(including \\n and \\t) of string,\n",
    "just keep one space between the parts originally seperated by space\n",
    "\"\"\"\n",
    "def removeSpace(input_str):\n",
    "    input_str = str(input_str)\n",
    "    input_str.split()\n",
    "    return ' '.join(input_str.split())"
   ]
  },
  {
   "cell_type": "code",
   "execution_count": 2,
   "metadata": {
    "collapsed": true
   },
   "outputs": [],
   "source": [
    "from pprint import pprint\n",
    "import requests\n",
    "from lxml import html\n",
    "from bs4 import BeautifulSoup\n",
    "\n",
    "request_return = requests.get(\"\")"
   ]
  },
  {
   "cell_type": "code",
   "execution_count": 3,
   "metadata": {
    "collapsed": false
   },
   "outputs": [],
   "source": [
    "soup = BeautifulSoup(request_return.content, 'lxml')\n",
    "comment_text = soup.find('div', id='specs')\n",
    "uncomment_text = str(comment_text).replace('<!--\\n', '').replace('-->\\n', '')\n",
    "specs = BeautifulSoup(uncomment_text, 'lxml').find('div', id='specs')\n",
    "\n",
    "specification_group = specs.findAll('div')"
   ]
  },
  {
   "cell_type": "code",
   "execution_count": 5,
   "metadata": {
    "collapsed": true
   },
   "outputs": [],
   "source": [
    "results = {}\n",
    "\n",
    "for group in specification_group:\n",
    "    spec = []\n",
    "    for tr in group.findAll('tr'):\n",
    "        tr_list = []\n",
    "        for td in tr.findAll('td'):\n",
    "            text = removeSpace(td.text)\n",
    "            if text != '':\n",
    "                tr_list.append(text)\n",
    "        if len(tr_list) > 1:\n",
    "            spec.append(tr_list)\n",
    "        else:\n",
    "            spec.append(tr_list[0])\n",
    "    results[removeSpace(group.h4.text)] = spec"
   ]
  },
  {
   "cell_type": "code",
   "execution_count": 155,
   "metadata": {
    "collapsed": false
   },
   "outputs": [],
   "source": [
    "car_type_soup = BeautifulSoup(requests.get(\"https://www.cars.com\").content, 'lxml')"
   ]
  }
 ],
 "metadata": {
  "kernelspec": {
   "display_name": "Python 2",
   "language": "python",
   "name": "python2"
  },
  "language_info": {
   "codemirror_mode": {
    "name": "ipython",
    "version": 2
   },
   "file_extension": ".py",
   "mimetype": "text/x-python",
   "name": "python",
   "nbconvert_exporter": "python",
   "pygments_lexer": "ipython2",
   "version": "2.7.11"
  }
 },
 "nbformat": 4,
 "nbformat_minor": 0
}
