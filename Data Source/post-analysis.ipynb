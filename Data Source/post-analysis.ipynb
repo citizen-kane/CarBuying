{
 "cells": [
  {
   "cell_type": "code",
   "execution_count": 32,
   "metadata": {
    "collapsed": true
   },
   "outputs": [],
   "source": [
    "from pprint import pprint"
   ]
  },
  {
   "cell_type": "code",
   "execution_count": 1,
   "metadata": {
    "collapsed": true
   },
   "outputs": [],
   "source": [
    "import json\n",
    "import pandas as pd"
   ]
  },
  {
   "cell_type": "code",
   "execution_count": 2,
   "metadata": {
    "collapsed": true
   },
   "outputs": [],
   "source": [
    "car_list = pd.read_csv('saved-data/csv/car_list.csv', sep=',')"
   ]
  },
  {
   "cell_type": "code",
   "execution_count": 4,
   "metadata": {
    "collapsed": false
   },
   "outputs": [],
   "source": [
    "car_data = pd.read_json('saved-data/json/car_data.json')"
   ]
  },
  {
   "cell_type": "code",
   "execution_count": 12,
   "metadata": {
    "collapsed": false
   },
   "outputs": [],
   "source": [
    "car_data = car_data.T"
   ]
  },
  {
   "cell_type": "code",
   "execution_count": 47,
   "metadata": {
    "collapsed": true
   },
   "outputs": [
    {
     "name": "stdout",
     "output_type": "stream",
     "text": [
      "{u'make': u'ferrari',\n",
      " u'model': u'458-italia',\n",
      " u'type': u'convertible',\n",
      " u'url': u'http://www.edmunds.com/ferrari/458-italia/2015/convertible/features-specs/',\n",
      " u'year': u'2015'}\n",
      "\n",
      "\n",
      "{u'make': u'ferrari',\n",
      " u'model': u'458-italia',\n",
      " u'type': u'convertible',\n",
      " u'url': u'http://www.edmunds.com/ferrari/458-italia/2015/convertible/features-specs/',\n",
      " u'year': u'2015'}\n",
      "\n",
      "\n",
      "{u'make': u'ferrari',\n",
      " u'model': u'458-italia',\n",
      " u'type': u'coupe',\n",
      " u'url': u'http://www.edmunds.com/ferrari/458-italia/2015/coupe/features-specs/',\n",
      " u'year': u'2015'}\n",
      "\n",
      "\n",
      "{u'make': u'ferrari',\n",
      " u'model': u'458-italia',\n",
      " u'type': u'coupe',\n",
      " u'url': u'http://www.edmunds.com/ferrari/458-italia/2015/coupe/features-specs/',\n",
      " u'year': u'2015'}\n",
      "\n",
      "\n",
      "{u'make': u'ferrari',\n",
      " u'model': u'california-t',\n",
      " u'type': u'convertible',\n",
      " u'url': u'http://www.edmunds.com/ferrari/california-t/2015/convertible/features-specs/',\n",
      " u'year': u'2015'}\n",
      "\n",
      "\n",
      "{u'make': u'ferrari',\n",
      " u'model': u'california-t',\n",
      " u'type': u'convertible',\n",
      " u'url': u'http://www.edmunds.com/ferrari/california-t/2015/convertible/features-specs/',\n",
      " u'year': u'2015'}\n",
      "\n",
      "\n",
      "{u'make': u'ferrari',\n",
      " u'model': u'f12-berlinetta',\n",
      " u'type': u'coupe',\n",
      " u'url': u'http://www.edmunds.com/ferrari/f12-berlinetta/2015/coupe/features-specs/',\n",
      " u'year': u'2015'}\n",
      "\n",
      "\n",
      "{u'make': u'ferrari',\n",
      " u'model': u'f12-berlinetta',\n",
      " u'type': u'coupe',\n",
      " u'url': u'http://www.edmunds.com/ferrari/f12-berlinetta/2015/coupe/features-specs/',\n",
      " u'year': u'2015'}\n",
      "\n",
      "\n",
      "{u'make': u'ferrari',\n",
      " u'model': u'f12-berlinetta',\n",
      " u'type': u'coupe',\n",
      " u'url': u'http://www.edmunds.com/ferrari/f12-berlinetta/2015/coupe/features-specs/',\n",
      " u'year': u'2015'}\n",
      "\n",
      "\n",
      "{u'make': u'ferrari',\n",
      " u'model': u'ff',\n",
      " u'type': u'coupe',\n",
      " u'url': u'http://www.edmunds.com/ferrari/ff/2015/coupe/features-specs/',\n",
      " u'year': u'2015'}\n",
      "\n",
      "\n",
      "{u'make': u'ferrari',\n",
      " u'model': u'ff',\n",
      " u'type': u'coupe',\n",
      " u'url': u'http://www.edmunds.com/ferrari/ff/2015/coupe/features-specs/',\n",
      " u'year': u'2015'}\n",
      "\n",
      "\n",
      "{u'make': u'lamborghini',\n",
      " u'model': u'aventador',\n",
      " u'type': u'convertible',\n",
      " u'url': u'http://www.edmunds.com/lamborghini/aventador/2015/convertible/features-specs/',\n",
      " u'year': u'2015'}\n",
      "\n",
      "\n",
      "{u'make': u'lamborghini',\n",
      " u'model': u'aventador',\n",
      " u'type': u'coupe',\n",
      " u'url': u'http://www.edmunds.com/lamborghini/aventador/2015/coupe/features-specs/',\n",
      " u'year': u'2015'}\n",
      "\n",
      "\n",
      "{u'make': u'toyota',\n",
      " u'model': u'mirai',\n",
      " u'type': u'sedan',\n",
      " u'url': u'http://www.edmunds.com/toyota/mirai/2016/sedan/features-specs/',\n",
      " u'year': u'2016'}\n",
      "\n",
      "\n"
     ]
    }
   ],
   "source": [
    "\"\"\"\n",
    "Two things to do now:\n",
    "1. Detect if all cars have the same list of features, no more and no less. Check if some features are empty.\n",
    "2. Get an inclusive sub-attributes of every feature of all cars\n",
    "\"\"\"\n",
    "for i in range(len(car_data.T)):\n",
    "    for key in car_data[i]['car data']:\n",
    "        if car_data[i]['car data'][key] == 'unavailable':\n",
    "            pprint(car_data[i]['car description'])\n",
    "            print\n",
    "            print"
   ]
  },
  {
   "cell_type": "code",
   "execution_count": 76,
   "metadata": {
    "collapsed": true
   },
   "outputs": [],
   "source": [
    "\"\"\"\n",
    "interior color, exterior color, safety: list of strings\n",
    "interior feature, exterior feature: dict, the value of each entry is a list of strings\n",
    "specification: dict, the value of each entry can be a list of dicts or a list of strings\n",
    "\"\"\"\n",
    "\n",
    "in_col = []\n",
    "ex_col = []\n",
    "saf = []\n",
    "\n",
    "\"\"\"\n",
    "get in_col, ex_col and saf first\n",
    "\"\"\"\n",
    "for i in range(len(car_data.T)):\n",
    "    if car_data[i]['car data']['interior color'] != 'unavailable':\n",
    "        for ic in car_data[i]['car data']['interior color']:\n",
    "            if ic not in in_col:\n",
    "                in_col.append(ic)\n",
    "    if car_data[i]['car data']['exterior color'] != 'unavailable':\n",
    "        for ec in car_data[i]['car data']['exterior color']:\n",
    "            if ic not in ex_col:\n",
    "                ex_col.append(ec)\n",
    "    if car_data[i]['car data']['safety'] != 'unavailable':\n",
    "        for sa in car_data[i]['car data']['safety']:\n",
    "            if sa not in saf:\n",
    "                saf.append(sa)\n",
    "\n",
    "with open('saved-data/feature-list/exterior-color.txt', 'w') as f:\n",
    "    f.write(\"\\n\".join(ex_col))"
   ]
  },
  {
   "cell_type": "code",
   "execution_count": 84,
   "metadata": {
    "collapsed": false
   },
   "outputs": [],
   "source": [
    "in_fea_key = []\n",
    "ex_fea_key = []\n",
    "spec_key = []\n",
    "\n",
    "for i in range(len(car_data.T)):\n",
    "    for inf in car_data[i]['car data']['interior feature']:\n",
    "        if inf not in in_fea_key:\n",
    "            in_fea_key.append(inf)\n",
    "    for exf in car_data[i]['car data']['exterior feature']:\n",
    "        if exf not in ex_fea_key:\n",
    "            ex_fea_key.append(exf)\n",
    "    for spe in car_data[i]['car data']['specification']:\n",
    "        if spe not in spec_key:\n",
    "            spec_key.append(spe)"
   ]
  },
  {
   "cell_type": "code",
   "execution_count": 92,
   "metadata": {
    "collapsed": false
   },
   "outputs": [],
   "source": [
    "in_fea = {}\n",
    "ex_fea = {}\n",
    "for key in in_fea_key:\n",
    "    in_fea[key] = []\n",
    "for key in ex_fea_key:\n",
    "    ex_fea[key] = []\n",
    "\n",
    "for i in range(len(car_data.T)):\n",
    "    for key in car_data[i]['car data']['interior feature']:\n",
    "        for item in car_data[i]['car data']['interior feature'][key]:\n",
    "            if item not in in_fea[key]:\n",
    "                in_fea[key].append(item)\n",
    "    for key in car_data[i]['car data']['exterior feature']:\n",
    "        for item in car_data[i]['car data']['exterior feature'][key]:\n",
    "            if item not in ex_fea[key]:\n",
    "                ex_fea[key].append(item)"
   ]
  },
  {
   "cell_type": "code",
   "execution_count": 104,
   "metadata": {
    "collapsed": false
   },
   "outputs": [],
   "source": [
    "specs = {}\n",
    "for key in spec_key:\n",
    "    specs[key] = []\n",
    "\n",
    "for i in range(len(car_data.T)):\n",
    "    for major_key in car_data[i]['car data']['specification']:\n",
    "        if major_key != 'Suspension':\n",
    "            for item in car_data[i]['car data']['specification'][major_key]:\n",
    "                for second_key in item:\n",
    "                    if second_key not in specs[major_key]:\n",
    "                        specs[major_key].append(second_key)\n",
    "        else:\n",
    "            for item in car_data[i]['car data']['specification'][major_key]:\n",
    "                if item not in specs[major_key]:\n",
    "                    specs[major_key].append(item)"
   ]
  },
  {
   "cell_type": "code",
   "execution_count": 105,
   "metadata": {
    "collapsed": false
   },
   "outputs": [
    {
     "data": {
      "text/plain": [
       "{u'DriveTrain': [u'DRIVE TYPE', u'TRANSMISSION'],\n",
       " u'Engine & Performance': [u'BASE ENGINE SIZE',\n",
       "  u'CAM TYPE',\n",
       "  u'CYLINDERS',\n",
       "  u'VALVES',\n",
       "  u'VALVE TIMING',\n",
       "  u'TORQUE',\n",
       "  u'HORSEPOWER',\n",
       "  u'TURNING CIRCLE'],\n",
       " u'Exterior Measurements': [u'WIDTH',\n",
       "  u'HEIGHT',\n",
       "  u'LENGTH',\n",
       "  u'WHEEL BASE',\n",
       "  u'FRONT TRACK',\n",
       "  u'REAR TRACK',\n",
       "  u'GROUND CLEARANCE'],\n",
       " u'Fuel': [u'ENGINE TYPE',\n",
       "  u'FUEL TYPE',\n",
       "  u'FUEL TANK CAPACITY',\n",
       "  u'RANGE IN MILES (CTY/HWY)',\n",
       "  u'EPA MILEAGE EST. (CTY/HWY)'],\n",
       " u'Interior Measurements': [u'FRONT HEAD ROOM',\n",
       "  u'FRONT HIP ROOM',\n",
       "  u'FRONT LEG ROOM',\n",
       "  u'FRONT SHOULDER ROOM',\n",
       "  u'REAR HIP ROOM',\n",
       "  u'REAR HEAD ROOM',\n",
       "  u'REAR LEG ROOM',\n",
       "  u'REAR SHOULDER ROOM'],\n",
       " u'Suspension': [u'MacPherson strut front suspension',\n",
       "  u'Multi-link rear suspension',\n",
       "  u'Four-wheel independent suspension',\n",
       "  u'Front and rear stabilizer bar',\n",
       "  u'Double wishbone rear suspension',\n",
       "  u'Stabilizer bar stabilizer bar',\n",
       "  u'Double wishbone front suspension',\n",
       "  u'Multi-link front suspension',\n",
       "  u'Modified MacPherson strut rear suspension',\n",
       "  u'Front independent suspension',\n",
       "  u'Short and long arm front suspension',\n",
       "  u'Solid axle rear suspension',\n",
       "  u'Solid live axle rear suspension',\n",
       "  u'Torsion beam rear suspension',\n",
       "  u'Twin I-beam front suspension',\n",
       "  u'Solid live axle front suspension',\n",
       "  u'Independent suspension independent suspension',\n",
       "  u'Modified MacPherson strut front suspension',\n",
       "  u'Integrated stabilizer bar stabilizer bar'],\n",
       " u'Warranty': [u'BASIC',\n",
       "  u'DRIVETRAIN',\n",
       "  u'ROADSIDE',\n",
       "  u'RUST',\n",
       "  u'FREE MAINTENANCE',\n",
       "  u'EV BATTERY',\n",
       "  u'HYBRID COMPONENT'],\n",
       " u'Weights and Capacities': [u'EPA INTERIOR VOLUME',\n",
       "  u'CURB WEIGHT',\n",
       "  u'CARGO CAPACITY, ALL SEATS IN PLACE',\n",
       "  u'MAXIMUM TOWING CAPACITY**',\n",
       "  u'ANGLE OF APPROACH',\n",
       "  u'ANGLE OF DEPARTURE',\n",
       "  u'MAXIMUM CARGO CAPACITY',\n",
       "  u'GROSS WEIGHT',\n",
       "  u'DRAG COEFFICIENT',\n",
       "  u'MAXIMUM PAYLOAD**']}"
      ]
     },
     "execution_count": 105,
     "metadata": {},
     "output_type": "execute_result"
    }
   ],
   "source": [
    "specs"
   ]
  },
  {
   "cell_type": "code",
   "execution_count": 106,
   "metadata": {
    "collapsed": false
   },
   "outputs": [],
   "source": [
    "with open('saved-data/feature-list/specification.json', 'w') as f:\n",
    "    json.dump(specs, f)"
   ]
  },
  {
   "cell_type": "code",
   "execution_count": 117,
   "metadata": {
    "collapsed": false
   },
   "outputs": [
    {
     "name": "stdout",
     "output_type": "stream",
     "text": [
      "Warranty : 7\n",
      "Interior Measurements : 8\n",
      "Exterior Measurements : 7\n",
      "Weights and Capacities : 10\n",
      "Engine & Performance : 8\n",
      "Suspension : 19\n",
      "Fuel : 5\n",
      "DriveTrain : 2\n"
     ]
    }
   ],
   "source": [
    "for key in specs:\n",
    "    print key,':', len(specs[key])"
   ]
  }
 ],
 "metadata": {
  "kernelspec": {
   "display_name": "Python 2",
   "language": "python",
   "name": "python2"
  },
  "language_info": {
   "codemirror_mode": {
    "name": "ipython",
    "version": 2
   },
   "file_extension": ".py",
   "mimetype": "text/x-python",
   "name": "python",
   "nbconvert_exporter": "python",
   "pygments_lexer": "ipython2",
   "version": "2.7.11"
  }
 },
 "nbformat": 4,
 "nbformat_minor": 0
}
