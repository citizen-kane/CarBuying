{
 "cells": [
  {
   "cell_type": "code",
   "execution_count": 24,
   "metadata": {
    "collapsed": true
   },
   "outputs": [],
   "source": [
    "import re\n",
    "\n",
    "from pprint import pprint\n",
    "\n",
    "import pickle\n",
    "import json\n",
    "\n",
    "import pandas as pd\n",
    "\n",
    "import requests\n",
    "from bs4 import BeautifulSoup"
   ]
  },
  {
   "cell_type": "code",
   "execution_count": 21,
   "metadata": {
    "collapsed": true
   },
   "outputs": [],
   "source": [
    "with open('saved-data/python/car_list_url.pickle', 'r') as f:\n",
    "    car_url = pickle.load(f)"
   ]
  },
  {
   "cell_type": "code",
   "execution_count": 25,
   "metadata": {
    "collapsed": false
   },
   "outputs": [],
   "source": [
    "car_url = [re.search('^/.+\\d+/', url).group(0) for url in car_url]"
   ]
  },
  {
   "cell_type": "code",
   "execution_count": 32,
   "metadata": {
    "collapsed": false
   },
   "outputs": [
    {
     "data": {
      "text/plain": [
       "['', 'acura', 'ilx', '2015', '']"
      ]
     },
     "execution_count": 32,
     "metadata": {},
     "output_type": "execute_result"
    }
   ],
   "source": [
    "car_url[0]"
   ]
  },
  {
   "cell_type": "code",
   "execution_count": null,
   "metadata": {
    "collapsed": true
   },
   "outputs": [],
   "source": [
    "\"\"\"\n",
    "use car make, model and year as txt file name, write reivews to file one by one\n",
    "using 'w+'\n",
    "\"\"\""
   ]
  },
  {
   "cell_type": "code",
   "execution_count": null,
   "metadata": {
    "collapsed": false
   },
   "outputs": [
    {
     "name": "stdout",
     "output_type": "stream",
     "text": [
      "url:  http://www.cars.com/acura/ilx/2015/consumer-reviews/\n",
      "url:  http://www.cars.com/acura/ilx/2016/consumer-reviews/\n",
      "url:  http://www.cars.com/acura/mdx/2015/consumer-reviews/\n",
      "url:  http://www.cars.com/acura/mdx/2016/consumer-reviews/\n",
      "url:  http://www.cars.com/acura/rdx/2015/consumer-reviews/\n",
      "url:  http://www.cars.com/acura/rdx/2016/consumer-reviews/\n",
      "url:  http://www.cars.com/acura/rlx/2016/consumer-reviews/\n",
      "no review\n",
      "url:  http://www.cars.com/acura/rlx/2015/consumer-reviews/\n",
      "url:  http://www.cars.com/acura/rlx/2016/consumer-reviews/\n",
      "no review\n",
      "url:  http://www.cars.com/acura/tlx/2015/consumer-reviews/\n",
      "url:  http://www.cars.com/acura/tlx/2016/consumer-reviews/\n",
      "url:  http://www.cars.com/alfa-romeo/4c/2015/consumer-reviews/\n",
      "url:  http://www.cars.com/alfa-romeo/4c/2016/consumer-reviews/\n",
      "no review\n",
      "url:  http://www.cars.com/alfa-romeo/4c/2015/consumer-reviews/\n",
      "url:  http://www.cars.com/alfa-romeo/4c/2016/consumer-reviews/\n",
      "no review\n",
      "url:  http://www.cars.com/aston-martin/db9/2015/consumer-reviews/\n",
      "url:  http://www.cars.com/aston-martin/db9/2015/consumer-reviews/\n",
      "url:  http://www.cars.com/aston-martin/db9/2015/consumer-reviews/\n",
      "url:  http://www.cars.com/aston-martin/db9/2015/consumer-reviews/\n",
      "url:  http://www.cars.com/aston-martin/db9-gt/2016/consumer-reviews/\n",
      "no review\n",
      "url:  http://www.cars.com/aston-martin/db9-gt/2016/consumer-reviews/\n",
      "no review\n",
      "url:  http://www.cars.com/aston-martin/rapide-s/2015/consumer-reviews/\n",
      "no review\n",
      "url:  http://www.cars.com/aston-martin/rapide-s/2016/consumer-reviews/\n",
      "no review\n",
      "url:  http://www.cars.com/aston-martin/v12-vantage-s/2016/consumer-reviews/\n",
      "no review\n",
      "url:  http://www.cars.com/aston-martin/v12-vantage-s/2015/consumer-reviews/\n",
      "no review\n",
      "url:  http://www.cars.com/aston-martin/v12-vantage-s/2016/consumer-reviews/\n",
      "no review\n",
      "url:  http://www.cars.com/aston-martin/v8-vantage/2015/consumer-reviews/\n",
      "no review\n",
      "url:  http://www.cars.com/aston-martin/v8-vantage/2016/consumer-reviews/\n",
      "no review\n",
      "url:  http://www.cars.com/aston-martin/v8-vantage/2015/consumer-reviews/\n",
      "no review\n",
      "url:  http://www.cars.com/aston-martin/v8-vantage/2016/consumer-reviews/\n",
      "no review\n",
      "url:  http://www.cars.com/aston-martin/vanquish/2015/consumer-reviews/\n",
      "no review\n",
      "url:  http://www.cars.com/aston-martin/vanquish/2016/consumer-reviews/\n",
      "no review\n",
      "url:  http://www.cars.com/aston-martin/vanquish/2015/consumer-reviews/\n",
      "no review\n",
      "url:  http://www.cars.com/aston-martin/vanquish/2016/consumer-reviews/\n",
      "no review\n",
      "url:  http://www.cars.com/audi/a3/2015/consumer-reviews/\n",
      "url:  http://www.cars.com/audi/a3/2016/consumer-reviews/\n",
      "url:  http://www.cars.com/audi/a3/2015/consumer-reviews/\n",
      "url:  http://www.cars.com/audi/a3/2015/consumer-reviews/\n",
      "url:  http://www.cars.com/audi/a3/2016/consumer-reviews/\n",
      "url:  http://www.cars.com/audi/a3-sportback-e-tron/2016/consumer-reviews/\n",
      "no review\n",
      "url:  http://www.cars.com/audi/a4/2015/consumer-reviews/\n",
      "url:  http://www.cars.com/audi/a4/2016/consumer-reviews/\n",
      "no review\n",
      "url:  http://www.cars.com/audi/a4/2017/consumer-reviews/\n",
      "no review\n",
      "url:  http://www.cars.com/audi/a5/2015/consumer-reviews/\n",
      "url:  http://www.cars.com/audi/a5/2016/consumer-reviews/\n",
      "url:  http://www.cars.com/audi/a5/2015/consumer-reviews/\n",
      "url:  http://www.cars.com/audi/a5/2016/consumer-reviews/\n",
      "url:  http://www.cars.com/audi/a6/2015/consumer-reviews/\n",
      "url:  http://www.cars.com/audi/a6/2016/consumer-reviews/\n",
      "url:  http://www.cars.com/audi/a6/2015/consumer-reviews/\n",
      "url:  http://www.cars.com/audi/a6/2016/consumer-reviews/\n",
      "url:  http://www.cars.com/audi/a7/2015/consumer-reviews/\n",
      "url:  http://www.cars.com/audi/a7/2016/consumer-reviews/\n",
      "url:  http://www.cars.com/audi/a7/2015/consumer-reviews/\n",
      "url:  http://www.cars.com/audi/a7/2016/consumer-reviews/\n",
      "url:  http://www.cars.com/audi/a8/2015/consumer-reviews/\n",
      "url:  http://www.cars.com/audi/a8/2016/consumer-reviews/\n",
      "no review\n",
      "url:  http://www.cars.com/audi/a8/2015/consumer-reviews/\n",
      "url:  http://www.cars.com/audi/a8/2016/consumer-reviews/\n",
      "no review\n",
      "url:  http://www.cars.com/audi/allroad/2015/consumer-reviews/\n",
      "url:  http://www.cars.com/audi/allroad/2016/consumer-reviews/\n",
      "no review\n",
      "url:  http://www.cars.com/audi/q3/2015/consumer-reviews/\n",
      "url:  http://www.cars.com/audi/q3/2016/consumer-reviews/\n",
      "url:  http://www.cars.com/audi/q5/2015/consumer-reviews/\n",
      "url:  http://www.cars.com/audi/q5/2016/consumer-reviews/\n",
      "no review\n",
      "url:  http://www.cars.com/audi/q5/2015/consumer-reviews/\n",
      "url:  http://www.cars.com/audi/q5/2016/consumer-reviews/\n",
      "no review\n"
     ]
    }
   ],
   "source": [
    "for url in car_url:\n",
    "    base_url = \"http://www.cars.com\" + url + \"consumer-reviews/\"\n",
    "    response = requests.get(base_url)\n",
    "    \n",
    "    if response.ok == True:\n",
    "        review_soup = BeautifulSoup(response.content, 'lxml')\n",
    "        \n",
    "        name = url.split('/')\n",
    "        name = '_'.join(name[1:4]) + '.txt'\n",
    "        des_file = open('saved-data/review/carcom/' + name, 'w+')\n",
    "        \n",
    "        print \"url: \", base_url\n",
    "        \n",
    "        count = 0\n",
    "        try:\n",
    "            for item in review_soup.find('div', id='js-consumer-reviews').findAll('div', class_='row'):\n",
    "                try:\n",
    "                    col = item.find('div', class_='col24')\n",
    "                    if col:\n",
    "                        if len(col.attrs['class']) == 1:\n",
    "                            pre_div = item.findPrevious('div', class_='row')\n",
    "                            \n",
    "                            des_file.write(pre_div.find('h4').text)\n",
    "                            des_file.write('\\n')\n",
    "                            des_file.write(pre_div.find('p').text)\n",
    "                            des_file.write('\\n')\n",
    "\n",
    "                            des_file.write(col.find('p').text)\n",
    "                            des_file.write('\\n\\n')\n",
    "                            \n",
    "                            count += 1\n",
    "                except:\n",
    "                    print 'error for now'\n",
    "        except:\n",
    "            print 'no review'\n",
    "            \n",
    "        des_file.write(\"Number of reviews: \" + str(count) + '\\n')\n",
    "        des_file.close()\n",
    "        \n",
    "    else:\n",
    "        print 'url unavailable'"
   ]
  },
  {
   "cell_type": "code",
   "execution_count": 13,
   "metadata": {
    "collapsed": true
   },
   "outputs": [],
   "source": [
    "header"
   ]
  }
 ],
 "metadata": {
  "kernelspec": {
   "display_name": "Python 2",
   "language": "python",
   "name": "python2"
  },
  "language_info": {
   "codemirror_mode": {
    "name": "ipython",
    "version": 2
   },
   "file_extension": ".py",
   "mimetype": "text/x-python",
   "name": "python",
   "nbconvert_exporter": "python",
   "pygments_lexer": "ipython2",
   "version": "2.7.11"
  }
 },
 "nbformat": 4,
 "nbformat_minor": 0
}
