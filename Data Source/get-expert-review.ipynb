{
 "cells": [
  {
   "cell_type": "code",
   "execution_count": 1,
   "metadata": {
    "collapsed": true
   },
   "outputs": [],
   "source": [
    "import requests\n",
    "from bs4 import BeautifulSoup"
   ]
  },
  {
   "cell_type": "code",
   "execution_count": 4,
   "metadata": {
    "collapsed": false
   },
   "outputs": [
    {
     "name": "stdout",
     "output_type": "stream",
     "text": [
      "{'make': 'acura', 'type': 'sedan', 'model': 'ilx', 'year': '2015'}\n",
      "/acura/ilx/2015/sedan/\n"
     ]
    }
   ],
   "source": [
    "# 1. Be careful not to overwrite saved data, always use 'r'\n",
    "import pickle\n",
    "with open('saved-data/python-data/car_list_url.pickle', 'rb') as f:\n",
    "    car_url = pickle.load(f)\n",
    "with open('saved-data/python-data/car_list.pickle', 'rb') as f:\n",
    "    car_list = pickle.load(f)\n",
    "\n",
    "print car_list[0]\n",
    "print car_url[0]"
   ]
  },
  {
   "cell_type": "code",
   "execution_count": null,
   "metadata": {
    "collapsed": true
   },
   "outputs": [
    {
     "name": "stdout",
     "output_type": "stream",
     "text": [
      "query:  http://www.edmunds.com/acura/ilx/2015/sedan/review/\n",
      "query:  http://www.edmunds.com/acura/ilx/2016/sedan/review/\n",
      "query:  http://www.edmunds.com/acura/mdx/2015/suv/review/\n",
      "query:  http://www.edmunds.com/acura/mdx/2016/suv/review/\n",
      "query:  http://www.edmunds.com/acura/rdx/2015/suv/review/\n",
      "query:  http://www.edmunds.com/acura/rdx/2016/suv/review/\n",
      "query:  http://www.edmunds.com/acura/rlx/2016/hybrid/review/\n",
      "query:  http://www.edmunds.com/acura/rlx/2015/sedan/review/\n",
      "query:  http://www.edmunds.com/acura/rlx/2016/sedan/review/\n",
      "query:  http://www.edmunds.com/acura/tlx/2015/sedan/review/\n",
      "query:  http://www.edmunds.com/acura/tlx/2016/sedan/review/\n",
      "query:  http://www.edmunds.com/alfa-romeo/4c/2015/convertible/review/\n",
      "query:  http://www.edmunds.com/alfa-romeo/4c/2016/convertible/review/\n",
      "query:  http://www.edmunds.com/alfa-romeo/4c/2015/coupe/review/\n",
      "query:  http://www.edmunds.com/alfa-romeo/4c/2016/coupe/review/\n",
      "query:  http://www.edmunds.com/aston-martin/db9/2015/convertible/review/\n",
      "query:  http://www.edmunds.com/aston-martin/db9/2015/convertible/review/\n",
      "query:  http://www.edmunds.com/aston-martin/db9/2015/coupe/review/\n",
      "query:  http://www.edmunds.com/aston-martin/db9/2015/coupe/review/\n",
      "query:  http://www.edmunds.com/aston-martin/db9-gt/2016/convertible/review/\n",
      "query:  http://www.edmunds.com/aston-martin/db9-gt/2016/coupe/review/\n",
      "query:  http://www.edmunds.com/aston-martin/rapide-s/2015/sedan/review/\n",
      "query:  http://www.edmunds.com/aston-martin/rapide-s/2016/sedan/review/\n",
      "query:  http://www.edmunds.com/aston-martin/v12-vantage-s/2016/convertible/review/\n",
      "query:  http://www.edmunds.com/aston-martin/v12-vantage-s/2015/coupe/review/\n",
      "query:  http://www.edmunds.com/aston-martin/v12-vantage-s/2016/coupe/review/\n",
      "query:  http://www.edmunds.com/aston-martin/v8-vantage/2015/convertible/review/\n",
      "query:  http://www.edmunds.com/aston-martin/v8-vantage/2016/convertible/review/\n",
      "query:  http://www.edmunds.com/aston-martin/v8-vantage/2015/coupe/review/\n",
      "query:  http://www.edmunds.com/aston-martin/v8-vantage/2016/coupe/review/\n",
      "query:  http://www.edmunds.com/aston-martin/vanquish/2015/convertible/review/\n",
      "query:  http://www.edmunds.com/aston-martin/vanquish/2016/convertible/review/\n",
      "query:  http://www.edmunds.com/aston-martin/vanquish/2015/coupe/review/\n",
      "query:  http://www.edmunds.com/aston-martin/vanquish/2016/coupe/review/\n",
      "query:  http://www.edmunds.com/audi/a3/2015/convertible/review/\n",
      "query:  http://www.edmunds.com/audi/a3/2016/convertible/review/\n",
      "query:  http://www.edmunds.com/audi/a3/2015/diesel/review/\n",
      "query:  http://www.edmunds.com/audi/a3/2015/sedan/review/\n",
      "query:  http://www.edmunds.com/audi/a3/2016/sedan/review/\n",
      "query:  http://www.edmunds.com/audi/a3-sportback-e-tron/2016/hatchback/review/\n",
      "query:  http://www.edmunds.com/audi/a4/2015/sedan/review/\n",
      "query:  http://www.edmunds.com/audi/a4/2016/sedan/review/\n",
      "query:  http://www.edmunds.com/audi/a4/2017/sedan/review/\n",
      "query:  http://www.edmunds.com/audi/a5/2015/convertible/review/\n",
      "query:  http://www.edmunds.com/audi/a5/2016/convertible/review/\n"
     ]
    }
   ],
   "source": [
    "missing_expert_reviews = []\n",
    "\n",
    "for url in car_url:\n",
    "    name = url.split('/')\n",
    "    name = name[1:len(name)-1]\n",
    "    \n",
    "    first_line = ' '.join(name)\n",
    "    \n",
    "    query = 'http://www.edmunds.com' + url + 'review/'\n",
    "    print 'query: ', query\n",
    "\n",
    "    res = requests.get(query)\n",
    "    if res.ok == True:\n",
    "        soup = BeautifulSoup(res.content, 'lxml')\n",
    "        try:\n",
    "            divs = soup.find('div', id='overview-pod').findChild('div').findChildren('div')\n",
    "\n",
    "            filename = 'saved-data/review/expert/edmund/' + '-'.join(name) + '.txt'\n",
    "            with open(filename, 'w+') as f:\n",
    "                f.write(first_line)\n",
    "                f.write('\\n')\n",
    "\n",
    "                f.write(divs[0].find('h2').text)\n",
    "                f.write('\\n')\n",
    "\n",
    "                for d in divs[1:]:\n",
    "                    if d.attrs['class'][0] != \"video-player\":\n",
    "                        f.write(d.find('h4').text)\n",
    "                        f.write('\\n')\n",
    "                        for p in d.findAll('p'):\n",
    "                            f.write(p.text.encode('ascii', 'ignore').decode('ascii'))\n",
    "                            f.write('\\n')\n",
    "                    f.write('\\n')\n",
    "\n",
    "                f.write('\\n')\n",
    "                f.write('expert review')\n",
    "        except:\n",
    "            print 'exception'\n",
    "            missing_expert_reviews.append(url)            \n",
    "    else:\n",
    "        print 'page unavailable'\n",
    "        missing_expert_reviews.append(url)"
   ]
  }
 ],
 "metadata": {
  "kernelspec": {
   "display_name": "Python 2",
   "language": "python",
   "name": "python2"
  },
  "language_info": {
   "codemirror_mode": {
    "name": "ipython",
    "version": 2
   },
   "file_extension": ".py",
   "mimetype": "text/x-python",
   "name": "python",
   "nbconvert_exporter": "python",
   "pygments_lexer": "ipython2",
   "version": "2.7.11"
  }
 },
 "nbformat": 4,
 "nbformat_minor": 0
}
