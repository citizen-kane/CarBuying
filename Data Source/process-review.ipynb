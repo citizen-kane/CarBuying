{
 "cells": [
  {
   "cell_type": "code",
   "execution_count": 1,
   "metadata": {
    "collapsed": true
   },
   "outputs": [],
   "source": [
    "from pprint import pprint\n",
    "\n",
    "import json\n",
    "\n",
    "with open('saved-data/json/all_review.json', 'r') as f:\n",
    "    reviews = json.load(f)"
   ]
  },
  {
   "cell_type": "code",
   "execution_count": 8,
   "metadata": {
    "collapsed": false
   },
   "outputs": [],
   "source": [
    "single_review = []\n",
    "for review in reviews:\n",
    "    temp = {}\n",
    "    temp[\"car descriptiion\"] = review[\"car descriptiion\"]\n",
    "    \n",
    "    temp['car review'] = ''\n",
    "    if review['car review']:\n",
    "        for r in review['car review']:\n",
    "            for key in r:\n",
    "                if key != 'Vehicle':\n",
    "                    temp['car review'] += r[key] + '\\n'\n",
    "\n",
    "        single_review.append(temp)"
   ]
  },
  {
   "cell_type": "code",
   "execution_count": 9,
   "metadata": {
    "collapsed": false
   },
   "outputs": [],
   "source": [
    "with open('saved-data/json/single_review.json', 'w') as f:\n",
    "    json.dump(single_review, f)"
   ]
  },
  {
   "cell_type": "code",
   "execution_count": 34,
   "metadata": {
    "collapsed": false
   },
   "outputs": [],
   "source": [
    "for item in single_review:\n",
    "    name = '_'.join([item['car descriptiion']['make'], item['car descriptiion']['model'], \\\n",
    "                     item['car descriptiion']['year'], item['car descriptiion']['type']])\n",
    "    with open('./' + name + '.txt', 'w') as f:\n",
    "        f.write(item['car review'].encode('utf8'))"
   ]
  },
  {
   "cell_type": "code",
   "execution_count": 23,
   "metadata": {
    "collapsed": true
   },
   "outputs": [],
   "source": [
    "for i in range(len(single_review)):\n",
    "    with open('temp/' + str(i) + '.txt', 'w') as f:\n",
    "        f.write(single_review[i]['car review'].encode('utf8'))"
   ]
  },
  {
   "cell_type": "code",
   "execution_count": 15,
   "metadata": {
    "collapsed": false
   },
   "outputs": [
    {
     "data": {
      "text/plain": [
       "'/Users/shaoliang/Desktop/car-buying/Crawler'"
      ]
     },
     "execution_count": 15,
     "metadata": {},
     "output_type": "execute_result"
    }
   ],
   "source": [
    "import os\n",
    "os.getcwd()"
   ]
  },
  {
   "cell_type": "code",
   "execution_count": 16,
   "metadata": {
    "collapsed": true
   },
   "outputs": [],
   "source": [
    "os.chdir('saved-data/json/seperate-review/')"
   ]
  },
  {
   "cell_type": "code",
   "execution_count": 30,
   "metadata": {
    "collapsed": true
   },
   "outputs": [],
   "source": [
    "dd = os.listdir('.')"
   ]
  },
  {
   "cell_type": "code",
   "execution_count": 35,
   "metadata": {
    "collapsed": false
   },
   "outputs": [
    {
     "data": {
      "text/plain": [
       "621"
      ]
     },
     "execution_count": 35,
     "metadata": {},
     "output_type": "execute_result"
    }
   ],
   "source": [
    "len(dd)"
   ]
  }
 ],
 "metadata": {
  "kernelspec": {
   "display_name": "Python 2",
   "language": "python",
   "name": "python2"
  },
  "language_info": {
   "codemirror_mode": {
    "name": "ipython",
    "version": 2
   },
   "file_extension": ".py",
   "mimetype": "text/x-python",
   "name": "python",
   "nbconvert_exporter": "python",
   "pygments_lexer": "ipython2",
   "version": "2.7.11"
  }
 },
 "nbformat": 4,
 "nbformat_minor": 0
}
